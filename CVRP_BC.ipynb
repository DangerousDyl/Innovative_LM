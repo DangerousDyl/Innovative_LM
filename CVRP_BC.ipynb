{
 "cells": [
  {
   "cell_type": "markdown",
   "metadata": {},
   "source": [
    "This notebook runs the capacitated vehicle routing problem for our base case scenario"
   ]
  },
  {
   "cell_type": "code",
   "execution_count": 1,
   "metadata": {
    "scrolled": true
   },
   "outputs": [
    {
     "name": "stdout",
     "output_type": "stream",
     "text": [
      "Requirement already satisfied: ortools in c:\\users\\44792\\anaconda3\\envs\\py3-tf2.0\\lib\\site-packages (7.8.7959)\n",
      "Requirement already satisfied: protobuf>=3.12.2 in c:\\users\\44792\\anaconda3\\envs\\py3-tf2.0\\lib\\site-packages (from ortools) (3.13.0)\n",
      "Requirement already satisfied: six>=1.10 in c:\\users\\44792\\anaconda3\\envs\\py3-tf2.0\\lib\\site-packages (from ortools) (1.14.0)\n",
      "Requirement already satisfied: setuptools in c:\\users\\44792\\anaconda3\\envs\\py3-tf2.0\\lib\\site-packages (from protobuf>=3.12.2->ortools) (46.1.3.post20200330)\n",
      "Note: you may need to restart the kernel to use updated packages.\n"
     ]
    }
   ],
   "source": [
    "pip install ortools"
   ]
  },
  {
   "cell_type": "code",
   "execution_count": 2,
   "metadata": {},
   "outputs": [
    {
     "name": "stdout",
     "output_type": "stream",
     "text": [
      "Requirement already satisfied: routing in c:\\users\\44792\\anaconda3\\envs\\py3-tf2.0\\lib\\site-packages (0.2.0)Note: you may need to restart the kernel to use updated packages.\n",
      "\n"
     ]
    }
   ],
   "source": [
    "pip install routing"
   ]
  },
  {
   "cell_type": "code",
   "execution_count": 7,
   "metadata": {},
   "outputs": [],
   "source": [
    "from __future__ import print_function\n",
    "from ortools.constraint_solver import routing_enums_pb2\n",
    "from ortools.constraint_solver import pywrapcp"
   ]
  },
  {
   "cell_type": "code",
   "execution_count": 8,
   "metadata": {},
   "outputs": [],
   "source": [
    "\"\"\"Capacited Vehicles Routing Problem (CVRP).\"\"\"\n",
    "\n",
    "def create_data_model():\n",
    "    \"\"\"Stores the data for the problem.\"\"\"\n",
    "    data = {}\n",
    "    data['distance_matrix'] = [  \n",
    "        [\n",
    "            0, 321, 791, 743, 492, 644, 618, 513, 822, 656, 596, 735, 773, 529, 372, 834\n",
    "        ], \n",
    "        [\n",
    "            321, 0, 422, 662, 266, 418, 500, 683, 992, 1127, 1188, 963, 1021, 303, 194, 608\n",
    "        ], \n",
    "        [\n",
    "            647, 471, 0, 991, 380, 147, 865, 1048, 1357, 1247, 1308, 1083, 1485, 774, 314, 638\n",
    "        ], \n",
    "        [\n",
    "            344, 666, 1135, 0, 613, 988, 449, 410, 592, 996, 903, 936, 748, 362, 676, 490\n",
    "        ], \n",
    "        [\n",
    "            492, 266, 592, 609, 0, 377, 670, 853, 1162, 1393, 1454, 1229, 1119, 251, 461, 342\n",
    "        ],\n",
    "        [\n",
    "            540, 324, 147, 844, 377, 0, 718, 901, 1210, 1100, 1161, 936, 1338, 627, 167, 635\n",
    "        ], \n",
    "        [\n",
    "            218, 500, 1009, 453, 670, 862, 0, 183, 492, 769, 676, 709, 521, 573, 551, 942\n",
    "        ], \n",
    "        [\n",
    "            401, 683, 1192, 410, 853, 1045, 183, 0, 309, 726, 634, 667, 478, 530, 734, 899\n",
    "        ], \n",
    "        [\n",
    "            710, 992, 1501, 592, 1162, 1354, 492, 309, 0, 842, 741, 637, 235, 839, 1043, 943\n",
    "        ], \n",
    "        [\n",
    "            973, 1255, 1303, 982, 1353, 1156, 755, 712, 683, 0, 123, 608, 448, 1102, 989, 1471\n",
    "        ],\n",
    "        [\n",
    "            596, 917, 1372, 903, 1274, 1225, 676, 634, 604, 430, 0, 225, 369, 1023, 1058, 1393\n",
    "        ], \n",
    "        [\n",
    "            493, 814, 1083, 936, 1307, 936, 709, 667, 637, 204, 225, 0, 402, 1056, 768, 1426\n",
    "        ], \n",
    "        [\n",
    "            768, 1049, 1485, 776, 1147, 1338, 549, 507, 235, 607, 505, 402, 0, 896, 1170, 1266\n",
    "        ], \n",
    "        [\n",
    "            464, 303, 629, 362, 251, 627, 573, 530, 839, 1115, 1023, 1056, 868, 0, 498, 369\n",
    "        ], \n",
    "        [\n",
    "            372, 519, 314, 676, 690, 167, 551, 734, 1043, 932, 994, 768, 1170, 727, 0, 802\n",
    "        ], \n",
    "        [\n",
    "            834, 608, 638, 490, 342, 635, 942, 899, 943, 1485, 1393, 1426, 1237, 369, 802, 0\n",
    "        ],\n",
    "    ]\n",
    "    data['demands'] = [0, 24.398934 , 32.813974, 28.080347, 13.514304, 41.930230, 45.014770,\n",
    "                       11.958897, 10.562819, 32.553647, 7.430177, 40.207492, 29.699453, \n",
    "                       72.657881, 27.079007, 29.233375]\n",
    "    data['vehicle_capacities'] = [300, 300]\n",
    "    data['num_vehicles'] = 2\n",
    "    data['depot'] = 0\n",
    "    return data\n"
   ]
  },
  {
   "cell_type": "markdown",
   "metadata": {},
   "source": [
    "Demands: Each location has a demand corresponding to the quantity—for example, weight or volume—of the item to be picked up.\n",
    "- Capacities: Each vehicle has a capacity: the maximum quantity that the vehicle can hold. As a vehicle travels along its route, the total quantity of the items it is carrying can never exceed its capacity."
   ]
  },
  {
   "cell_type": "code",
   "execution_count": 9,
   "metadata": {},
   "outputs": [],
   "source": [
    "def print_solution(data, manager, routing, solution):\n",
    "    \"\"\"Prints solution on console.\"\"\"\n",
    "    total_distance = 0\n",
    "    total_load = 0\n",
    "    for vehicle_id in range(data['num_vehicles']):\n",
    "        index = routing.Start(vehicle_id)\n",
    "        plan_output = 'Route for vehicle {}:\\n'.format(vehicle_id)\n",
    "        route_distance = 0\n",
    "        route_load = 0\n",
    "        while not routing.IsEnd(index):\n",
    "            node_index = manager.IndexToNode(index)\n",
    "            route_load += data['demands'][node_index]\n",
    "            plan_output += ' {0} Load({1}) -> '.format(node_index, route_load)\n",
    "            previous_index = index\n",
    "            index = solution.Value(routing.NextVar(index))\n",
    "            route_distance += routing.GetArcCostForVehicle(\n",
    "                previous_index, index, vehicle_id)\n",
    "        plan_output += ' {0} Load({1})\\n'.format(manager.IndexToNode(index),\n",
    "                                                 route_load)\n",
    "        plan_output += 'Distance of the route: {}m\\n'.format(route_distance)\n",
    "        plan_output += 'Load of the route: {}\\n'.format(route_load)\n",
    "        print(plan_output)\n",
    "        total_distance += route_distance\n",
    "        total_load += route_load\n",
    "    print('Total distance of all routes: {}m'.format(total_distance))\n",
    "    print('Total load of all routes: {}'.format(total_load))\n",
    "\n"
   ]
  },
  {
   "cell_type": "code",
   "execution_count": 10,
   "metadata": {},
   "outputs": [
    {
     "name": "stdout",
     "output_type": "stream",
     "text": [
      "Route for vehicle 0:\n",
      " 0 Load(0) ->  6 Load(45.01477) ->  7 Load(56.973667) ->  8 Load(67.536486) ->  12 Load(97.235939) ->  11 Load(137.443431) ->  9 Load(169.997078) ->  10 Load(177.42725499999997) ->  0 Load(177.42725499999997)\n",
      "Distance of the route: 2670m\n",
      "Load of the route: 177.42725499999997\n",
      "\n",
      "Route for vehicle 1:\n",
      " 0 Load(0) ->  1 Load(24.398934) ->  14 Load(51.477941) ->  5 Load(93.40817100000001) ->  2 Load(126.22214500000001) ->  4 Load(139.73644900000002) ->  15 Load(168.96982400000002) ->  13 Load(241.62770500000002) ->  3 Load(269.708052) ->  0 Load(269.708052)\n",
      "Distance of the route: 2626m\n",
      "Load of the route: 269.708052\n",
      "\n",
      "Total distance of all routes: 5296m\n",
      "Total load of all routes: 447.135307\n"
     ]
    }
   ],
   "source": [
    "def main():\n",
    "    \"\"\"Solve the CVRP problem.\"\"\"\n",
    "    # Instantiate the data problem.\n",
    "    data = create_data_model()\n",
    "\n",
    "    # Create the routing index manager.\n",
    "    manager = pywrapcp.RoutingIndexManager(len(data['distance_matrix']),\n",
    "                                           data['num_vehicles'], data['depot'])\n",
    "\n",
    "    # Create Routing Model.\n",
    "    routing = pywrapcp.RoutingModel(manager)\n",
    "    # Create and register a transit callback.\n",
    "    def distance_callback(from_index, to_index):\n",
    "        \"\"\"Returns the distance between the two nodes.\"\"\"\n",
    "    \n",
    "    # Convert from routing variable Index to distance matrix NodeIndex.\n",
    "        from_node = manager.IndexToNode(from_index)\n",
    "        to_node = manager.IndexToNode(to_index)\n",
    "        return data['distance_matrix'][from_node][to_node]\n",
    "    transit_callback_index = routing.RegisterTransitCallback(distance_callback)\n",
    "\n",
    "    # Define cost of each arc.\n",
    "    routing.SetArcCostEvaluatorOfAllVehicles(transit_callback_index)\n",
    "\n",
    "    # Add Capacity constraint.\n",
    "    def demand_callback(from_index):\n",
    "        \"\"\"Returns the demand of the node.\"\"\"\n",
    "        # Convert from routing variable Index to demands NodeIndex.\n",
    "        from_node = manager.IndexToNode(from_index)\n",
    "        return data['demands'][from_node]\n",
    "\n",
    "    demand_callback_index = routing.RegisterUnaryTransitCallback(\n",
    "        demand_callback)\n",
    "    routing.AddDimensionWithVehicleCapacity(\n",
    "        demand_callback_index,\n",
    "        0,  # null capacity slack\n",
    "        data['vehicle_capacities'],  # vehicle maximum capacities\n",
    "        True,  # start cumul to zero\n",
    "        'Capacity')\n",
    "\n",
    "    # Setting first solution heuristic.\n",
    "    search_parameters = pywrapcp.DefaultRoutingSearchParameters()\n",
    "    search_parameters.first_solution_strategy = (\n",
    "        routing_enums_pb2.FirstSolutionStrategy.PATH_CHEAPEST_ARC)\n",
    "\n",
    "    # Solve the problem.\n",
    "    solution = routing.SolveWithParameters(search_parameters)\n",
    "\n",
    "    # Print solution on console.\n",
    "    if solution:\n",
    "        print_solution(data, manager, routing, solution)\n",
    "\n",
    "\n",
    "if __name__ == '__main__':\n",
    "    main()"
   ]
  },
  {
   "attachments": {
    "CVRP_base_case.jpg": {
     "image/jpeg": "[encoded data removed]"
    }
   },
   "cell_type": "markdown",
   "metadata": {},
   "source": [
    "![CVRP_base_case.jpg](attachment:CVRP_base_case.jpg)"
   ]
  }
 ],
 "metadata": {
  "kernelspec": {
   "display_name": "TensorFlow",
   "language": "python",
   "name": "py3-tf2.0"
  },
  "language_info": {
   "codemirror_mode": {
    "name": "ipython",
    "version": 3
   },
   "file_extension": ".py",
   "mimetype": "text/x-python",
   "name": "python",
   "nbconvert_exporter": "python",
   "pygments_lexer": "ipython3",
   "version": "3.7.7"
  }
 },
 "nbformat": 4,
 "nbformat_minor": 4
}

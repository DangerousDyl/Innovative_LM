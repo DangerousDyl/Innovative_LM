{
 "cells": [
  {
   "cell_type": "markdown",
   "metadata": {},
   "source": [
    "# Get Distance Matrix "
   ]
  },
  {
   "cell_type": "markdown",
   "metadata": {},
   "source": [
    "In this tutorial we will demonstrate how to use google solver to solve the vehicle routing problem (VRP) and the capacitated vehicle routing problem (CVRP). "
   ]
  },
  {
   "cell_type": "markdown",
   "metadata": {},
   "source": [
    "Step 1: Determine our Distance Matrix:\n",
    "First we will use google's APIs to get coordinates of the locations of the delivery locations and depot. Then we will run the functions created by Google OR-Tools to convert the coordinates into a distance matrix.\n",
    "Follow the link for further details: https://developers.google.com/optimization/routing/vrp#distance_matrix_api "
   ]
  },
  {
   "cell_type": "code",
   "execution_count": 1,
   "metadata": {},
   "outputs": [],
   "source": [
    "from __future__ import division\n",
    "from __future__ import print_function\n",
    "import requests\n",
    "import json\n",
    "import urllib\n",
    "import urllib.request\n",
    "\n",
    "\n",
    "def create_data():\n",
    "  \"\"\"Creates the data.\"\"\"\n",
    "  data = {}\n",
    "  data['API_key'] = 'SET_YOUR_API_KEY'\n",
    "  data['addresses'] = ['3898+Jenifer+St+NW+Washington+DC', # depot\n",
    "                     '5301+41st+St+NW+Washington+DC', #1\n",
    "                     '5335+42nd+Pl+NW+Washington+DC', #2\n",
    "                     '3901+Garrison+St+NW+Washington+DC', #3\n",
    "                     '4117+Ingomar+St+NW+Washington+DC', #4\n",
    "                     '4198+Military+Rd+NW+Washington+DC', #5\n",
    "                     '5201+Reno+Rd+NW+Washington+DC', #6\n",
    "                     '5048+Reno+Rd+NW+Washington+DC', #7\n",
    "                     '3701+Fessenden+St+NW+Washington+DC', #8\n",
    "                     '3701+Jocelyn+St+NW+Washington+DC', #9 \n",
    "                     '3701+Jenifer+St+NW+Washington+DC', #10\n",
    "                     '5311+Connecticut+Ave+NW+Washington+DC', #11\n",
    "                     '5100+Connecticut+Ave+NW+Washington+DC', #12\n",
    "                     '3998+Harrison+St+NW+Washington+DC', #13\n",
    "                     '3998+Military+Rd+NW+Washington+DC', #14\n",
    "                     '5015+42nd+St+NW+Washington+DC'#15\n",
    "                      ]\n",
    "  return data"
   ]
  },
  {
   "cell_type": "markdown",
   "metadata": {},
   "source": [
    "Next we will run the functions to create a distance matrix from our coordinates. Please note that there is already documentation provided in the code (noted in those lines preceded by an #) \n",
    "\n",
    "\n",
    "From the documentation the code computes the distance matrix as follows: \n",
    "\n",
    "1. Divides the 16 addresses into two groups of six addresses and one group of four addresses.\n",
    "2. For each group, build and send a request for the origin addresses in the group and all destination addresses.\n",
    "3. Use the response to build the corresponding rows of the matrix, and concatenate the rows (Python lists).\n",
    "4. Print list"
   ]
  },
  {
   "cell_type": "code",
   "execution_count": 2,
   "metadata": {},
   "outputs": [],
   "source": [
    "def create_distance_matrix(data):\n",
    "  addresses = data[\"addresses\"]\n",
    "  API_key = data[\"API_key\"]\n",
    "  # Distance Matrix API only accepts 100 elements per request, so get rows in multiple requests.\n",
    "  max_elements = 100\n",
    "  num_addresses = len(addresses) # 16 in this example.\n",
    "  # Maximum number of rows that can be computed per request (6 in this example).\n",
    "  max_rows = max_elements // num_addresses\n",
    "  # num_addresses = q * max_rows + r (q = 2 and r = 4 in this example).\n",
    "  q, r = divmod(num_addresses, max_rows)\n",
    "  dest_addresses = addresses\n",
    "  distance_matrix = []\n",
    "  # Send q requests, returning max_rows rows per request.\n",
    "  for i in range(q):\n",
    "    origin_addresses = addresses[i * max_rows: (i + 1) * max_rows]\n",
    "    response = send_request(origin_addresses, dest_addresses, API_key)\n",
    "    distance_matrix += build_distance_matrix(response)\n",
    "\n",
    "  # Get the remaining remaining r rows, if necessary.\n",
    "  if r > 0:\n",
    "    origin_addresses = addresses[q * max_rows: q * max_rows + r]\n",
    "    response = send_request(origin_addresses, dest_addresses, API_key)\n",
    "    distance_matrix += build_distance_matrix(response)\n",
    "  return distance_matrix\n"
   ]
  },
  {
   "cell_type": "markdown",
   "metadata": {},
   "source": [
    "The following function builds and sends a request for a given set of origin and destination addresses.\n",
    "- The sub-function build_address_string concatenates addresses separated by the pipe character, '|'.\n",
    "- The remaining code in the function assembles the parts of the request described above, and sends the request. The line response = json.loads(jsonResult) converts the raw result to a Python object."
   ]
  },
  {
   "cell_type": "code",
   "execution_count": 3,
   "metadata": {},
   "outputs": [],
   "source": [
    "def send_request(origin_addresses, dest_addresses, API_key):\n",
    "  \"\"\" Build and send request for the given origin and destination addresses.\"\"\"\n",
    "  def build_address_str(addresses):\n",
    "    # Build a pipe-separated string of addresses\n",
    "    address_str = ''\n",
    "    for i in range(len(addresses) - 1):\n",
    "      address_str += addresses[i] + '|'\n",
    "    address_str += addresses[-1]\n",
    "    return address_str\n",
    "\n",
    "  request = 'https://maps.googleapis.com/maps/api/distancematrix/json?units=imperial'\n",
    "  origin_address_str = build_address_str(origin_addresses)\n",
    "  dest_address_str = build_address_str(dest_addresses)\n",
    "  request = request + '&origins=' + origin_address_str + '&destinations=' + \\\n",
    "                       dest_address_str + '&key=' + API_key\n",
    "  jsonResult = urllib.request.urlopen(request).read()\n",
    "  response = json.loads(jsonResult)\n",
    "  return response"
   ]
  },
  {
   "cell_type": "markdown",
   "metadata": {},
   "source": [
    "The following function builds rows of the distance matrix, using the response returned by the send_request function.\n",
    "- The line: row_list = [row['elements'][j]['distance']['value'] for j in range(len(row['elements']))] extracts the distances between locations for a row of the response.\n",
    "- If you want to create a time matrix, containing travel times between locations, replace 'distance' with 'duration' in the function build_distance_matrix."
   ]
  },
  {
   "cell_type": "code",
   "execution_count": 4,
   "metadata": {},
   "outputs": [],
   "source": [
    "def build_distance_matrix(response):\n",
    "  distance_matrix = []\n",
    "  for row in response['rows']:\n",
    "    row_list = [row['elements'][j]['distance']['value'] for j in range(len(row['elements']))]\n",
    "    distance_matrix.append(row_list)\n",
    "  return distance_matrix"
   ]
  },
  {
   "cell_type": "markdown",
   "metadata": {},
   "source": [
    "Print the Distance Matrix:\n",
    "- The following code in the main function runs the program"
   ]
  },
  {
   "cell_type": "code",
   "execution_count": 5,
   "metadata": {},
   "outputs": [
    {
     "name": "stdout",
     "output_type": "stream",
     "text": [
      "[[0, 321, 647, 783, 492, 644, 556, 513, 829, 656, 602, 735, 773, 529, 371, 834], [321, 0, 422, 666, 266, 417, 500, 683, 999, 1125, 1244, 960, 1021, 303, 194, 608], [685, 467, 0, 989, 380, 146, 864, 1047, 1362, 1245, 1364, 1081, 1483, 631, 314, 638], [344, 666, 1133, 0, 613, 988, 453, 410, 599, 996, 897, 936, 748, 362, 675, 634], [492, 266, 380, 613, 0, 376, 670, 853, 1169, 1391, 1268, 1227, 1119, 251, 460, 342], [540, 322, 146, 844, 376, 0, 718, 901, 1217, 1099, 1219, 935, 1337, 625, 168, 634], [218, 540, 1008, 453, 710, 862, 0, 183, 499, 769, 670, 709, 521, 573, 550, 942], [401, 833, 1191, 410, 781, 1045, 183, 0, 316, 726, 627, 667, 478, 530, 733, 899], [717, 1149, 1506, 599, 1097, 1361, 499, 316, 0, 835, 651, 631, 228, 846, 1048, 950], [973, 1405, 1301, 982, 1353, 1156, 755, 712, 676, 0, 117, 608, 448, 1102, 987, 1471], [602, 923, 1312, 897, 1094, 1167, 670, 627, 592, 436, 0, 231, 363, 1017, 998, 1386], [493, 814, 1081, 936, 985, 935, 582, 637, 631, 204, 231, 0, 402, 1056, 767, 1569], [766, 1296, 1483, 828, 1243, 1337, 548, 603, 228, 607, 363, 402, 0, 992, 1169, 1179], [464, 303, 629, 362, 251, 626, 573, 530, 846, 1116, 1017, 1056, 868, 0, 497, 369], [371, 518, 314, 675, 544, 168, 550, 733, 1048, 931, 1051, 767, 1169, 726, 0, 802], [834, 608, 638, 634, 342, 634, 942, 899, 950, 1485, 1410, 1449, 1237, 369, 802, 0]]\n"
     ]
    }
   ],
   "source": [
    "def main():\n",
    "  \"\"\"Entry point of the program\"\"\"\n",
    "  # Create the data.\n",
    "  data = create_data()\n",
    "  addresses = data['addresses']\n",
    "  API_key = data['API_key']\n",
    "  distance_matrix = create_distance_matrix(data)\n",
    "  print(distance_matrix)\n",
    "if __name__ == '__main__':\n",
    "  main()"
   ]
  },
  {
   "cell_type": "markdown",
   "metadata": {},
   "source": [
    "# Solve VRP"
   ]
  },
  {
   "cell_type": "markdown",
   "metadata": {},
   "source": [
    "In this section solve the Vehicle Routing Problem."
   ]
  },
  {
   "cell_type": "markdown",
   "metadata": {},
   "source": [
    "First we load the required libraries and input our required data. The data required is the following:\n",
    "1. Distance matrix\n",
    "2. Number of vehicles\n",
    "3. Depot (the index of the depot, the locaiton where all vehicles start and end their routes)"
   ]
  },
  {
   "cell_type": "code",
   "execution_count": 6,
   "metadata": {},
   "outputs": [],
   "source": [
    "from __future__ import print_function\n",
    "from ortools.constraint_solver import routing_enums_pb2\n",
    "from ortools.constraint_solver import pywrapcp"
   ]
  },
  {
   "cell_type": "code",
   "execution_count": 13,
   "metadata": {},
   "outputs": [],
   "source": [
    "def create_data_model():\n",
    "    \"\"\"Stores the data for the problem.\"\"\"\n",
    "    data = {}\n",
    "    data['distance_matrix'] = [\n",
    "        [\n",
    "            0, 321, 791, 743, 492, 644, 618, 513, 822, 656, 596, 735, 773, 529, 372, 834\n",
    "        ], \n",
    "        [\n",
    "            321, 0, 422, 662, 266, 418, 500, 683, 992, 1127, 1188, 963, 1021, 303, 194, 608\n",
    "        ], \n",
    "        [\n",
    "            647, 471, 0, 991, 380, 147, 865, 1048, 1357, 1247, 1308, 1083, 1485, 774, 314, 638\n",
    "        ], \n",
    "        [\n",
    "            344, 666, 1135, 0, 613, 988, 449, 410, 592, 996, 903, 936, 748, 362, 676, 490\n",
    "        ], \n",
    "        [\n",
    "            492, 266, 592, 609, 0, 377, 670, 853, 1162, 1393, 1454, 1229, 1119, 251, 461, 342\n",
    "        ],\n",
    "        [\n",
    "            540, 324, 147, 844, 377, 0, 718, 901, 1210, 1100, 1161, 936, 1338, 627, 167, 635\n",
    "        ], \n",
    "        [\n",
    "            218, 500, 1009, 453, 670, 862, 0, 183, 492, 769, 676, 709, 521, 573, 551, 942\n",
    "        ], \n",
    "        [\n",
    "            401, 683, 1192, 410, 853, 1045, 183, 0, 309, 726, 634, 667, 478, 530, 734, 899\n",
    "        ], \n",
    "        [\n",
    "            710, 992, 1501, 592, 1162, 1354, 492, 309, 0, 842, 741, 637, 235, 839, 1043, 943\n",
    "        ], \n",
    "        [\n",
    "            973, 1255, 1303, 982, 1353, 1156, 755, 712, 683, 0, 123, 608, 448, 1102, 989, 1471\n",
    "        ],\n",
    "        [\n",
    "            596, 917, 1372, 903, 1274, 1225, 676, 634, 604, 430, 0, 225, 369, 1023, 1058, 1393\n",
    "        ], \n",
    "        [\n",
    "            493, 814, 1083, 936, 1307, 936, 709, 667, 637, 204, 225, 0, 402, 1056, 768, 1426\n",
    "        ], \n",
    "        [\n",
    "            768, 1049, 1485, 776, 1147, 1338, 549, 507, 235, 607, 505, 402, 0, 896, 1170, 1266\n",
    "        ], \n",
    "        [\n",
    "            464, 303, 629, 362, 251, 627, 573, 530, 839, 1115, 1023, 1056, 868, 0, 498, 369\n",
    "        ], \n",
    "        [\n",
    "            372, 519, 314, 676, 690, 167, 551, 734, 1043, 932, 994, 768, 1170, 727, 0, 802\n",
    "        ], \n",
    "        [\n",
    "            834, 608, 638, 490, 342, 635, 942, 899, 943, 1485, 1393, 1426, 1237, 369, 802, 0\n",
    "        ],\n",
    "    ]\n",
    "    data['num_vehicles'] = 3\n",
    "    data['depot'] = 2\n",
    "    return data"
   ]
  },
  {
   "cell_type": "markdown",
   "metadata": {},
   "source": [
    "Add a solution printer\n",
    "- The function below prints the solution when called"
   ]
  },
  {
   "cell_type": "code",
   "execution_count": 14,
   "metadata": {},
   "outputs": [],
   "source": [
    "def print_solution(data, manager, routing, solution):\n",
    "    \"\"\"Prints solution on console.\"\"\"\n",
    "    max_route_distance = 0\n",
    "    for vehicle_id in range(data['num_vehicles']):\n",
    "        index = routing.Start(vehicle_id)\n",
    "        plan_output = 'Route for vehicle {}:\\n'.format(vehicle_id)\n",
    "        route_distance = 0\n",
    "        while not routing.IsEnd(index):\n",
    "            plan_output += ' {} -> '.format(manager.IndexToNode(index))\n",
    "            previous_index = index\n",
    "            index = solution.Value(routing.NextVar(index))\n",
    "            route_distance += routing.GetArcCostForVehicle(\n",
    "                previous_index, index, vehicle_id)\n",
    "        plan_output += '{}\\n'.format(manager.IndexToNode(index))\n",
    "        plan_output += 'Distance of the route: {}m\\n'.format(route_distance)\n",
    "        print(plan_output)\n",
    "        max_route_distance = max(route_distance, max_route_distance)\n",
    "    print('Maximum of the route distances: {}m'.format(max_route_distance))"
   ]
  },
  {
   "cell_type": "markdown",
   "metadata": {},
   "source": [
    "#### Main Function\n",
    "The following function does the following: \n",
    "1. Create the routing model: Creates the index manager (manager) and the routing model (routing). The method manager.IndexToNode converts the solver's internal indices to the numbers for locations. Location numbers correspond to the indices for the distance matrix.\n",
    "2. Define the distance callback (subfunction): Creates the distance callback which returns the distance between locations, and passes it to the solver.  Creates the callback and registers it with the solver as transit_callback_index.\n",
    "3. Defines the cost of the travel distances in this case: \n",
    "4. Employes a solver. See different solvers here- https://developers.google.com/optimization/routing/routing_options#first_sol_options "
   ]
  },
  {
   "cell_type": "code",
   "execution_count": null,
   "metadata": {},
   "outputs": [],
   "source": [
    "def main():\n",
    "    \"\"\"Solve the CVRP problem.\"\"\"\n",
    "    # Instantiate the data problem.\n",
    "    data = create_data_model()\n",
    "\n",
    "    # Create the routing index manager.\n",
    "    manager = pywrapcp.RoutingIndexManager(len(data['distance_matrix']),\n",
    "                                           data['num_vehicles'], data['depot'])\n",
    "\n",
    "    # Create Routing Model.\n",
    "    routing = pywrapcp.RoutingModel(manager)\n",
    "\n",
    "\n",
    "    # Create and register a transit callback.\n",
    "    def distance_callback(from_index, to_index):\n",
    "        \"\"\"Returns the distance between the two nodes.\"\"\"\n",
    "        # Convert from routing variable Index to distance matrix NodeIndex.\n",
    "        from_node = manager.IndexToNode(from_index)\n",
    "        to_node = manager.IndexToNode(to_index)\n",
    "        return data['distance_matrix'][from_node][to_node]\n",
    "\n",
    "    transit_callback_index = routing.RegisterTransitCallback(distance_callback)\n",
    "\n",
    "    # Define cost of each arc.\n",
    "    routing.SetArcCostEvaluatorOfAllVehicles(transit_callback_index)\n",
    "\n",
    "    # Add Distance constraint.\n",
    "    dimension_name = 'Distance'\n",
    "    routing.AddDimension(\n",
    "        transit_callback_index,\n",
    "        0,  # no slack\n",
    "        3000,  # vehicle maximum travel distance\n",
    "        True,  # start cumul to zero\n",
    "        dimension_name)\n",
    "    distance_dimension = routing.GetDimensionOrDie(dimension_name)\n",
    "    distance_dimension.SetGlobalSpanCostCoefficient(100)\n",
    "\n",
    "    # Setting first solution heuristic.\n",
    "    search_parameters = pywrapcp.DefaultRoutingSearchParameters()\n",
    "    search_parameters.first_solution_strategy = (\n",
    "        routing_enums_pb2.FirstSolutionStrategy.PATH_CHEAPEST_ARC)\n",
    "\n",
    "    # Solve the problem.\n",
    "    solution = routing.SolveWithParameters(search_parameters)\n",
    "\n",
    "    # Print solution on console.\n",
    "    if solution:\n",
    "        print_solution(data, manager, routing, solution)\n",
    "\n",
    "if __name__ == '__main__':\n",
    "    main()"
   ]
  }
 ],
 "metadata": {
  "kernelspec": {
   "display_name": "youtube-tutorial",
   "language": "python",
   "name": "youtube-tutorial"
  },
  "language_info": {
   "codemirror_mode": {
    "name": "ipython",
    "version": 3
   },
   "file_extension": ".py",
   "mimetype": "text/x-python",
   "name": "python",
   "nbconvert_exporter": "python",
   "pygments_lexer": "ipython3",
   "version": "3.8.2"
  }
 },
 "nbformat": 4,
 "nbformat_minor": 4
}
